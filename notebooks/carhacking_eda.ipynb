{
 "cells": [
  {
   "cell_type": "markdown",
   "metadata": {},
   "source": [
    "\n",
    "1. Here we want to concatenate all D type and S type files into two different pandas data frame to use it for fastText embedding generation\n",
    "2. Once S type and D type embeddings are generated, we can take their average as the actual embedding vector for each"
   ]
  },
  {
   "cell_type": "code",
   "execution_count": 1,
   "metadata": {},
   "outputs": [],
   "source": [
    "import numpy as np\n",
    "import pandas as pd\n",
    "import sklearn as sk"
   ]
  },
  {
   "cell_type": "code",
   "execution_count": 10,
   "metadata": {},
   "outputs": [],
   "source": [
    "dataloc = \"data\"\n",
    "carhacking = \"Car_Hacking_Challenge_Dataset_rev20Mar2021\"\n",
    "prelim = \"0_Preliminary\"\n",
    "training = \"0_Training\"\n",
    "filename_0 = \"Pre_train_D_0.csv\"\n",
    "filename_1 = \"Pre_train_D_1.csv\"\n",
    "filename_2 = \"Pre_train_D_2.csv\"\n",
    "filename_3 = \"Pre_train_S_0.csv\"\n",
    "filename_4 = \"Pre_train_S_1.csv\"\n",
    "filename_5 = \"Pre_train_D_2.csv\"\n"
   ]
  },
  {
   "cell_type": "code",
   "execution_count": 12,
   "metadata": {},
   "outputs": [],
   "source": [
    "import os\n",
    "\n",
    "prelim_train_dir = os.path.join(\"..\", dataloc, carhacking, prelim, training)\n",
    "csv0 = os.path.join(prelim_train_dir, filename_0)\n",
    "csv1 = os.path.join(prelim_train_dir, filename_1)\n",
    "csv2 = os.path.join(prelim_train_dir, filename_2)\n",
    "csv3 = os.path.join(prelim_train_dir, filename_3)\n",
    "csv4 = os.path.join(prelim_train_dir, filename_4)\n",
    "csv5 = os.path.join(prelim_train_dir, filename_5)"
   ]
  },
  {
   "cell_type": "code",
   "execution_count": 7,
   "metadata": {},
   "outputs": [
    {
     "data": {
      "text/html": [
       "<div>\n",
       "<style scoped>\n",
       "    .dataframe tbody tr th:only-of-type {\n",
       "        vertical-align: middle;\n",
       "    }\n",
       "\n",
       "    .dataframe tbody tr th {\n",
       "        vertical-align: top;\n",
       "    }\n",
       "\n",
       "    .dataframe thead th {\n",
       "        text-align: right;\n",
       "    }\n",
       "</style>\n",
       "<table border=\"1\" class=\"dataframe\">\n",
       "  <thead>\n",
       "    <tr style=\"text-align: right;\">\n",
       "      <th></th>\n",
       "      <th>Timestamp</th>\n",
       "      <th>Arbitration_ID</th>\n",
       "      <th>DLC</th>\n",
       "      <th>Data</th>\n",
       "      <th>Class</th>\n",
       "    </tr>\n",
       "  </thead>\n",
       "  <tbody>\n",
       "    <tr>\n",
       "      <th>0</th>\n",
       "      <td>1.597708e+09</td>\n",
       "      <td>260</td>\n",
       "      <td>8</td>\n",
       "      <td>06 25 05 30 FF CF 71 55</td>\n",
       "      <td>Normal</td>\n",
       "    </tr>\n",
       "    <tr>\n",
       "      <th>1</th>\n",
       "      <td>1.597708e+09</td>\n",
       "      <td>329</td>\n",
       "      <td>8</td>\n",
       "      <td>4A C5 7E 8C 31 2D 01 10</td>\n",
       "      <td>Normal</td>\n",
       "    </tr>\n",
       "    <tr>\n",
       "      <th>2</th>\n",
       "      <td>1.597708e+09</td>\n",
       "      <td>38D</td>\n",
       "      <td>8</td>\n",
       "      <td>00 00 49 00 90 7F FE 01</td>\n",
       "      <td>Normal</td>\n",
       "    </tr>\n",
       "    <tr>\n",
       "      <th>3</th>\n",
       "      <td>1.597708e+09</td>\n",
       "      <td>420</td>\n",
       "      <td>8</td>\n",
       "      <td>50 1E 00 C8 FC 4F 6A 00</td>\n",
       "      <td>Normal</td>\n",
       "    </tr>\n",
       "    <tr>\n",
       "      <th>4</th>\n",
       "      <td>1.597708e+09</td>\n",
       "      <td>421</td>\n",
       "      <td>8</td>\n",
       "      <td>FE 07 00 FF E3 7F 00 52</td>\n",
       "      <td>Normal</td>\n",
       "    </tr>\n",
       "  </tbody>\n",
       "</table>\n",
       "</div>"
      ],
      "text/plain": [
       "      Timestamp Arbitration_ID  DLC                     Data   Class\n",
       "0  1.597708e+09            260    8  06 25 05 30 FF CF 71 55  Normal\n",
       "1  1.597708e+09            329    8  4A C5 7E 8C 31 2D 01 10  Normal\n",
       "2  1.597708e+09            38D    8  00 00 49 00 90 7F FE 01  Normal\n",
       "3  1.597708e+09            420    8  50 1E 00 C8 FC 4F 6A 00  Normal\n",
       "4  1.597708e+09            421    8  FE 07 00 FF E3 7F 00 52  Normal"
      ]
     },
     "execution_count": 7,
     "metadata": {},
     "output_type": "execute_result"
    }
   ],
   "source": [
    "df = pd.read_csv(csv0)\n",
    "df.head()"
   ]
  },
  {
   "cell_type": "code",
   "execution_count": 9,
   "metadata": {},
   "outputs": [
    {
     "data": {
      "text/plain": [
       "1"
      ]
     },
     "execution_count": 9,
     "metadata": {},
     "output_type": "execute_result"
    }
   ],
   "source": [
    "df.Class.nunique()"
   ]
  },
  {
   "cell_type": "code",
   "execution_count": 13,
   "metadata": {},
   "outputs": [
    {
     "data": {
      "text/html": [
       "<div>\n",
       "<style scoped>\n",
       "    .dataframe tbody tr th:only-of-type {\n",
       "        vertical-align: middle;\n",
       "    }\n",
       "\n",
       "    .dataframe tbody tr th {\n",
       "        vertical-align: top;\n",
       "    }\n",
       "\n",
       "    .dataframe thead th {\n",
       "        text-align: right;\n",
       "    }\n",
       "</style>\n",
       "<table border=\"1\" class=\"dataframe\">\n",
       "  <thead>\n",
       "    <tr style=\"text-align: right;\">\n",
       "      <th></th>\n",
       "      <th>Timestamp</th>\n",
       "      <th>Arbitration_ID</th>\n",
       "      <th>DLC</th>\n",
       "      <th>Data</th>\n",
       "      <th>Class</th>\n",
       "      <th>SubClass</th>\n",
       "    </tr>\n",
       "  </thead>\n",
       "  <tbody>\n",
       "    <tr>\n",
       "      <th>0</th>\n",
       "      <td>1.597760e+09</td>\n",
       "      <td>153</td>\n",
       "      <td>8</td>\n",
       "      <td>20 A1 10 FF 00 FF 50 1F</td>\n",
       "      <td>Normal</td>\n",
       "      <td>Normal</td>\n",
       "    </tr>\n",
       "    <tr>\n",
       "      <th>1</th>\n",
       "      <td>1.597760e+09</td>\n",
       "      <td>220</td>\n",
       "      <td>8</td>\n",
       "      <td>13 24 7F 60 05 FF BF 10</td>\n",
       "      <td>Normal</td>\n",
       "      <td>Normal</td>\n",
       "    </tr>\n",
       "    <tr>\n",
       "      <th>2</th>\n",
       "      <td>1.597760e+09</td>\n",
       "      <td>507</td>\n",
       "      <td>4</td>\n",
       "      <td>08 00 00 01</td>\n",
       "      <td>Normal</td>\n",
       "      <td>Normal</td>\n",
       "    </tr>\n",
       "    <tr>\n",
       "      <th>3</th>\n",
       "      <td>1.597760e+09</td>\n",
       "      <td>356</td>\n",
       "      <td>8</td>\n",
       "      <td>00 00 00 80 16 00 00 00</td>\n",
       "      <td>Normal</td>\n",
       "      <td>Normal</td>\n",
       "    </tr>\n",
       "    <tr>\n",
       "      <th>4</th>\n",
       "      <td>1.597760e+09</td>\n",
       "      <td>340</td>\n",
       "      <td>8</td>\n",
       "      <td>FC 03 00 E4 B7 21 FA 3C</td>\n",
       "      <td>Normal</td>\n",
       "      <td>Normal</td>\n",
       "    </tr>\n",
       "  </tbody>\n",
       "</table>\n",
       "</div>"
      ],
      "text/plain": [
       "      Timestamp Arbitration_ID  DLC                     Data   Class SubClass\n",
       "0  1.597760e+09            153    8  20 A1 10 FF 00 FF 50 1F  Normal   Normal\n",
       "1  1.597760e+09            220    8  13 24 7F 60 05 FF BF 10  Normal   Normal\n",
       "2  1.597760e+09            507    4              08 00 00 01  Normal   Normal\n",
       "3  1.597760e+09            356    8  00 00 00 80 16 00 00 00  Normal   Normal\n",
       "4  1.597760e+09            340    8  FC 03 00 E4 B7 21 FA 3C  Normal   Normal"
      ]
     },
     "execution_count": 13,
     "metadata": {},
     "output_type": "execute_result"
    }
   ],
   "source": [
    "df = pd.read_csv(csv1)\n",
    "df.head()"
   ]
  },
  {
   "cell_type": "code",
   "execution_count": 14,
   "metadata": {},
   "outputs": [
    {
     "data": {
      "text/plain": [
       "2"
      ]
     },
     "execution_count": 14,
     "metadata": {},
     "output_type": "execute_result"
    }
   ],
   "source": [
    "df.Class.nunique()"
   ]
  },
  {
   "cell_type": "code",
   "execution_count": null,
   "metadata": {},
   "outputs": [],
   "source": []
  }
 ],
 "metadata": {
  "kernelspec": {
   "display_name": "carhacking",
   "language": "python",
   "name": "python3"
  },
  "language_info": {
   "codemirror_mode": {
    "name": "ipython",
    "version": 3
   },
   "file_extension": ".py",
   "mimetype": "text/x-python",
   "name": "python",
   "nbconvert_exporter": "python",
   "pygments_lexer": "ipython3",
   "version": "3.9.18"
  },
  "orig_nbformat": 4
 },
 "nbformat": 4,
 "nbformat_minor": 2
}
