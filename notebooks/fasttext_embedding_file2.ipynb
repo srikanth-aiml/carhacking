{
 "cells": [
  {
   "cell_type": "code",
   "execution_count": 21,
   "metadata": {},
   "outputs": [],
   "source": [
    "import numpy as np\n",
    "import pandas as pd\n",
    "import sklearn as sk"
   ]
  },
  {
   "cell_type": "code",
   "execution_count": 22,
   "metadata": {},
   "outputs": [],
   "source": [
    "dataloc = \"data\"\n",
    "carhacking = \"Car_Hacking_Challenge_Dataset_rev20Mar2021\"\n",
    "prelim = \"0_Preliminary\"\n",
    "training = \"0_Training\"\n",
    "filename_1 = \"Pre_train_D_1.csv\""
   ]
  },
  {
   "cell_type": "code",
   "execution_count": 23,
   "metadata": {},
   "outputs": [],
   "source": [
    "import os\n",
    "\n",
    "prelim_train_dir = os.path.join(\"..\", dataloc, \"raw\", carhacking, prelim, training)\n",
    "csv1 = os.path.join(prelim_train_dir, filename_1)"
   ]
  },
  {
   "cell_type": "code",
   "execution_count": 24,
   "metadata": {},
   "outputs": [
    {
     "data": {
      "text/html": [
       "<div>\n",
       "<style scoped>\n",
       "    .dataframe tbody tr th:only-of-type {\n",
       "        vertical-align: middle;\n",
       "    }\n",
       "\n",
       "    .dataframe tbody tr th {\n",
       "        vertical-align: top;\n",
       "    }\n",
       "\n",
       "    .dataframe thead th {\n",
       "        text-align: right;\n",
       "    }\n",
       "</style>\n",
       "<table border=\"1\" class=\"dataframe\">\n",
       "  <thead>\n",
       "    <tr style=\"text-align: right;\">\n",
       "      <th></th>\n",
       "      <th>Timestamp</th>\n",
       "      <th>Arbitration_ID</th>\n",
       "      <th>DLC</th>\n",
       "      <th>Data</th>\n",
       "      <th>Class</th>\n",
       "      <th>SubClass</th>\n",
       "    </tr>\n",
       "  </thead>\n",
       "  <tbody>\n",
       "    <tr>\n",
       "      <th>0</th>\n",
       "      <td>1.597760e+09</td>\n",
       "      <td>153</td>\n",
       "      <td>8</td>\n",
       "      <td>20 A1 10 FF 00 FF 50 1F</td>\n",
       "      <td>Normal</td>\n",
       "      <td>Normal</td>\n",
       "    </tr>\n",
       "    <tr>\n",
       "      <th>1</th>\n",
       "      <td>1.597760e+09</td>\n",
       "      <td>220</td>\n",
       "      <td>8</td>\n",
       "      <td>13 24 7F 60 05 FF BF 10</td>\n",
       "      <td>Normal</td>\n",
       "      <td>Normal</td>\n",
       "    </tr>\n",
       "    <tr>\n",
       "      <th>2</th>\n",
       "      <td>1.597760e+09</td>\n",
       "      <td>507</td>\n",
       "      <td>4</td>\n",
       "      <td>08 00 00 01</td>\n",
       "      <td>Normal</td>\n",
       "      <td>Normal</td>\n",
       "    </tr>\n",
       "    <tr>\n",
       "      <th>3</th>\n",
       "      <td>1.597760e+09</td>\n",
       "      <td>356</td>\n",
       "      <td>8</td>\n",
       "      <td>00 00 00 80 16 00 00 00</td>\n",
       "      <td>Normal</td>\n",
       "      <td>Normal</td>\n",
       "    </tr>\n",
       "    <tr>\n",
       "      <th>4</th>\n",
       "      <td>1.597760e+09</td>\n",
       "      <td>340</td>\n",
       "      <td>8</td>\n",
       "      <td>FC 03 00 E4 B7 21 FA 3C</td>\n",
       "      <td>Normal</td>\n",
       "      <td>Normal</td>\n",
       "    </tr>\n",
       "  </tbody>\n",
       "</table>\n",
       "</div>"
      ],
      "text/plain": [
       "      Timestamp Arbitration_ID  DLC                     Data   Class SubClass\n",
       "0  1.597760e+09            153    8  20 A1 10 FF 00 FF 50 1F  Normal   Normal\n",
       "1  1.597760e+09            220    8  13 24 7F 60 05 FF BF 10  Normal   Normal\n",
       "2  1.597760e+09            507    4              08 00 00 01  Normal   Normal\n",
       "3  1.597760e+09            356    8  00 00 00 80 16 00 00 00  Normal   Normal\n",
       "4  1.597760e+09            340    8  FC 03 00 E4 B7 21 FA 3C  Normal   Normal"
      ]
     },
     "execution_count": 24,
     "metadata": {},
     "output_type": "execute_result"
    }
   ],
   "source": [
    "df = pd.read_csv(csv1)\n",
    "df.head()"
   ]
  },
  {
   "cell_type": "code",
   "execution_count": 25,
   "metadata": {},
   "outputs": [
    {
     "data": {
      "text/html": [
       "<div>\n",
       "<style scoped>\n",
       "    .dataframe tbody tr th:only-of-type {\n",
       "        vertical-align: middle;\n",
       "    }\n",
       "\n",
       "    .dataframe tbody tr th {\n",
       "        vertical-align: top;\n",
       "    }\n",
       "\n",
       "    .dataframe thead th {\n",
       "        text-align: right;\n",
       "    }\n",
       "</style>\n",
       "<table border=\"1\" class=\"dataframe\">\n",
       "  <thead>\n",
       "    <tr style=\"text-align: right;\">\n",
       "      <th></th>\n",
       "      <th>Timestamp</th>\n",
       "      <th>Arbitration_ID</th>\n",
       "      <th>DLC</th>\n",
       "      <th>Data</th>\n",
       "      <th>Class</th>\n",
       "      <th>SubClass</th>\n",
       "      <th>d1</th>\n",
       "      <th>d2</th>\n",
       "      <th>d3</th>\n",
       "      <th>d4</th>\n",
       "      <th>d5</th>\n",
       "      <th>d6</th>\n",
       "      <th>d7</th>\n",
       "      <th>d8</th>\n",
       "    </tr>\n",
       "  </thead>\n",
       "  <tbody>\n",
       "    <tr>\n",
       "      <th>0</th>\n",
       "      <td>1.597760e+09</td>\n",
       "      <td>153</td>\n",
       "      <td>8</td>\n",
       "      <td>20 A1 10 FF 00 FF 50 1F</td>\n",
       "      <td>Normal</td>\n",
       "      <td>Normal</td>\n",
       "      <td>20</td>\n",
       "      <td>A1</td>\n",
       "      <td>10</td>\n",
       "      <td>FF</td>\n",
       "      <td>00</td>\n",
       "      <td>FF</td>\n",
       "      <td>50</td>\n",
       "      <td>1F</td>\n",
       "    </tr>\n",
       "    <tr>\n",
       "      <th>1</th>\n",
       "      <td>1.597760e+09</td>\n",
       "      <td>220</td>\n",
       "      <td>8</td>\n",
       "      <td>13 24 7F 60 05 FF BF 10</td>\n",
       "      <td>Normal</td>\n",
       "      <td>Normal</td>\n",
       "      <td>13</td>\n",
       "      <td>24</td>\n",
       "      <td>7F</td>\n",
       "      <td>60</td>\n",
       "      <td>05</td>\n",
       "      <td>FF</td>\n",
       "      <td>BF</td>\n",
       "      <td>10</td>\n",
       "    </tr>\n",
       "    <tr>\n",
       "      <th>2</th>\n",
       "      <td>1.597760e+09</td>\n",
       "      <td>507</td>\n",
       "      <td>4</td>\n",
       "      <td>08 00 00 01</td>\n",
       "      <td>Normal</td>\n",
       "      <td>Normal</td>\n",
       "      <td>08</td>\n",
       "      <td>00</td>\n",
       "      <td>00</td>\n",
       "      <td>01</td>\n",
       "      <td>None</td>\n",
       "      <td>None</td>\n",
       "      <td>None</td>\n",
       "      <td>None</td>\n",
       "    </tr>\n",
       "    <tr>\n",
       "      <th>3</th>\n",
       "      <td>1.597760e+09</td>\n",
       "      <td>356</td>\n",
       "      <td>8</td>\n",
       "      <td>00 00 00 80 16 00 00 00</td>\n",
       "      <td>Normal</td>\n",
       "      <td>Normal</td>\n",
       "      <td>00</td>\n",
       "      <td>00</td>\n",
       "      <td>00</td>\n",
       "      <td>80</td>\n",
       "      <td>16</td>\n",
       "      <td>00</td>\n",
       "      <td>00</td>\n",
       "      <td>00</td>\n",
       "    </tr>\n",
       "    <tr>\n",
       "      <th>4</th>\n",
       "      <td>1.597760e+09</td>\n",
       "      <td>340</td>\n",
       "      <td>8</td>\n",
       "      <td>FC 03 00 E4 B7 21 FA 3C</td>\n",
       "      <td>Normal</td>\n",
       "      <td>Normal</td>\n",
       "      <td>FC</td>\n",
       "      <td>03</td>\n",
       "      <td>00</td>\n",
       "      <td>E4</td>\n",
       "      <td>B7</td>\n",
       "      <td>21</td>\n",
       "      <td>FA</td>\n",
       "      <td>3C</td>\n",
       "    </tr>\n",
       "  </tbody>\n",
       "</table>\n",
       "</div>"
      ],
      "text/plain": [
       "      Timestamp Arbitration_ID  DLC                     Data   Class SubClass  \\\n",
       "0  1.597760e+09            153    8  20 A1 10 FF 00 FF 50 1F  Normal   Normal   \n",
       "1  1.597760e+09            220    8  13 24 7F 60 05 FF BF 10  Normal   Normal   \n",
       "2  1.597760e+09            507    4              08 00 00 01  Normal   Normal   \n",
       "3  1.597760e+09            356    8  00 00 00 80 16 00 00 00  Normal   Normal   \n",
       "4  1.597760e+09            340    8  FC 03 00 E4 B7 21 FA 3C  Normal   Normal   \n",
       "\n",
       "   d1  d2  d3  d4    d5    d6    d7    d8  \n",
       "0  20  A1  10  FF    00    FF    50    1F  \n",
       "1  13  24  7F  60    05    FF    BF    10  \n",
       "2  08  00  00  01  None  None  None  None  \n",
       "3  00  00  00  80    16    00    00    00  \n",
       "4  FC  03  00  E4    B7    21    FA    3C  "
      ]
     },
     "execution_count": 25,
     "metadata": {},
     "output_type": "execute_result"
    }
   ],
   "source": [
    "df[[\"d1\", \"d2\", \"d3\", \"d4\", \"d5\", \"d6\", \"d7\", \"d8\"]] = df.Data.str.split(\" \", expand=True)\n",
    "df.head()"
   ]
  },
  {
   "cell_type": "code",
   "execution_count": null,
   "metadata": {},
   "outputs": [],
   "source": [
    "df[\"d4\"].isna().sum()"
   ]
  },
  {
   "cell_type": "code",
   "execution_count": null,
   "metadata": {},
   "outputs": [],
   "source": [
    "df[df[\"Class\"]==\"Attack\"].shape"
   ]
  },
  {
   "cell_type": "code",
   "execution_count": null,
   "metadata": {},
   "outputs": [],
   "source": [
    "df[df[\"Class\"]==\"Attack\"]"
   ]
  },
  {
   "cell_type": "code",
   "execution_count": 26,
   "metadata": {},
   "outputs": [],
   "source": [
    "df[\"d1_int\"] = df.apply(lambda x: 999 if x[\"d1\"] is None else int(x[\"d1\"], 16), axis=1)\n",
    "df[\"d2_int\"] = df.apply(lambda x: 999 if x[\"d2\"] is None else int(x[\"d2\"], 16), axis=1)\n",
    "df[\"d3_int\"] = df.apply(lambda x: 999 if x[\"d3\"] is None else int(x[\"d3\"], 16), axis=1)\n",
    "df[\"d4_int\"] = df.apply(lambda x: 999 if x[\"d4\"] is None else int(x[\"d4\"], 16), axis=1)\n",
    "\n",
    "df[\"d5_int\"] = df.apply(lambda x: 999 if x[\"d5\"] is None else int(x[\"d5\"], 16), axis=1)\n",
    "df[\"d6_int\"] = df.apply(lambda x: 999 if x[\"d6\"] is None else int(x[\"d6\"], 16), axis=1)\n",
    "df[\"d7_int\"] = df.apply(lambda x: 999 if x[\"d7\"] is None else int(x[\"d7\"], 16), axis=1)\n",
    "df[\"d8_int\"] = df.apply(lambda x: 999 if x[\"d8\"] is None else int(x[\"d8\"], 16), axis=1)"
   ]
  },
  {
   "cell_type": "code",
   "execution_count": 27,
   "metadata": {},
   "outputs": [
    {
     "data": {
      "text/plain": [
       "(806390, 22)"
      ]
     },
     "execution_count": 27,
     "metadata": {},
     "output_type": "execute_result"
    }
   ],
   "source": [
    "df.shape"
   ]
  },
  {
   "cell_type": "code",
   "execution_count": null,
   "metadata": {},
   "outputs": [],
   "source": [
    "df.head()"
   ]
  },
  {
   "cell_type": "code",
   "execution_count": 28,
   "metadata": {},
   "outputs": [
    {
     "data": {
      "text/plain": [
       "array([[ 32, 161,  16, ..., 255,  80,  31],\n",
       "       [ 19,  36, 127, ..., 255, 191,  16],\n",
       "       [  8,   0,   0, ..., 999, 999, 999],\n",
       "       ...,\n",
       "       [  0,   0,   0, ...,  40,  11,  66],\n",
       "       [  4, 127, 255, ..., 123,   0,  38],\n",
       "       [  0,   0,   0, ...,   0,   0,   0]], dtype=int64)"
      ]
     },
     "execution_count": 28,
     "metadata": {},
     "output_type": "execute_result"
    }
   ],
   "source": [
    "X = df[[\"d1_int\", \"d2_int\", \"d3_int\", \"d4_int\", \"d5_int\", \"d6_int\", \"d7_int\", \"d8_int\"]].to_numpy()\n",
    "X"
   ]
  },
  {
   "cell_type": "code",
   "execution_count": null,
   "metadata": {},
   "outputs": [],
   "source": [
    "X.shape"
   ]
  },
  {
   "cell_type": "code",
   "execution_count": 29,
   "metadata": {},
   "outputs": [],
   "source": [
    "import math\n",
    "\n",
    "def build_nonoverlapping_sequence(X, seq_num=4):\n",
    "    seq_len = X.shape[1] * seq_num\n",
    "    n = math.floor(X.shape[0] / seq_len)\n",
    "    r = X.shape[0] % seq_len\n",
    "    if r != 0:\n",
    "        # Cut off not divisible part\n",
    "        seqs = X[:-r].reshape(-1,32)\n",
    "    else:\n",
    "        seqs = X.reshape(-1,32)\n",
    "\n",
    "    return seqs"
   ]
  },
  {
   "cell_type": "code",
   "execution_count": null,
   "metadata": {},
   "outputs": [],
   "source": [
    "math.floor(X.shape[0] / (X.shape[1] * 32))"
   ]
  },
  {
   "cell_type": "code",
   "execution_count": 30,
   "metadata": {},
   "outputs": [
    {
     "data": {
      "text/plain": [
       "(201536, 32)"
      ]
     },
     "execution_count": 30,
     "metadata": {},
     "output_type": "execute_result"
    }
   ],
   "source": [
    "Xnew = build_nonoverlapping_sequence(X, 32)\n",
    "Xnew.shape"
   ]
  },
  {
   "cell_type": "code",
   "execution_count": null,
   "metadata": {},
   "outputs": [],
   "source": [
    "Xnew.shape"
   ]
  },
  {
   "cell_type": "code",
   "execution_count": null,
   "metadata": {},
   "outputs": [],
   "source": [
    "Xnew.descr()"
   ]
  },
  {
   "cell_type": "code",
   "execution_count": 38,
   "metadata": {},
   "outputs": [],
   "source": [
    "def generate_model_file_path(embedding_root: str = None, embedding_for: str = None,\n",
    "                             embedding_model='skipgram', embedding_wordNgrams: int = 1,\n",
    "                             embedding_dim: int = 100, train_seq_len: int = 10, embedding_version: float = 1.0,\n",
    "                             embedding_type='fasttext'):\n",
    "    filename = f\"{embedding_for}_{embedding_type}_{embedding_model}_\" \\\n",
    "               f\"{embedding_wordNgrams}wordNgram_{embedding_dim}dim_{train_seq_len}trainseq_v{embedding_version}.bin\"\n",
    "    print(os.path.join(embedding_root, filename))\n",
    "    return os.path.join(embedding_root, filename)"
   ]
  },
  {
   "cell_type": "code",
   "execution_count": 31,
   "metadata": {},
   "outputs": [],
   "source": [
    "from abc import ABC, abstractmethod\n",
    "\n",
    "class UnsupervisedEmbedding(ABC):\n",
    "    def __init__(self, embedding_root: str = None, embedding_for: str = None,\n",
    "                 embedding_dim: int = 100, embedding_version: float = 1.0):\n",
    "        self.embedding_root = embedding_root\n",
    "        self.embedding_for = embedding_for\n",
    "        self.embedding_dim = embedding_dim\n",
    "        self.embedding_version = embedding_version\n",
    "\n",
    "    @abstractmethod\n",
    "    def fit(self, X):\n",
    "        pass"
   ]
  },
  {
   "cell_type": "code",
   "execution_count": 32,
   "metadata": {},
   "outputs": [],
   "source": [
    "import fasttext"
   ]
  },
  {
   "cell_type": "code",
   "execution_count": 34,
   "metadata": {},
   "outputs": [],
   "source": [
    "class FastTextEmbedding(UnsupervisedEmbedding):\n",
    "    def __init__(self, embedding_root: str = None, embedding_for: str = None,\n",
    "                 embedding_model='skipgram', embedding_wordNgrams: int = 1,\n",
    "                 embedding_dim: int = 100, embedding_version: float = 1.0,\n",
    "                 epochs: int = 10, minCount: int = 1, maxn: int = 0):\n",
    "        super().__init__(embedding_root, embedding_for, embedding_dim, embedding_version)\n",
    "        self.embedding_model = embedding_model\n",
    "\n",
    "        # Can use wordN grams by setting 2\n",
    "        # https://fasttext.cc/docs/en/supervised-tutorial.html\n",
    "        self.embedding_wordNgrams = embedding_wordNgrams\n",
    "\n",
    "        self.epochs = epochs\n",
    "        self.minCount = minCount\n",
    "        self.maxn = maxn\n",
    "\n",
    "        self.embedding_config = {\n",
    "            'embedding_root': self.embedding_root,\n",
    "            'embedding_for': self.embedding_for, 'embedding_model': self.embedding_model,\n",
    "            \"embedding_wordNgrams\": self.embedding_wordNgrams, 'embedding_dim': self.embedding_dim,\n",
    "            'embedding_version': self.embedding_version, 'embedding_type': 'fasttext'\n",
    "        }\n",
    "\n",
    "    def fit(self, X):\n",
    "        seq_len = X.shape[1]\n",
    "        # if X is not None:\n",
    "        #     seq_len = len(_tokenize_by_spaces(X[0])) \n",
    "        # print(f\"Calc BBBBBBBBBB {seq_len} , X.shape[1] = {X.shape[1]}\")\n",
    "\n",
    "\n",
    "        data_temp_file_path = FastTextEmbedding.generate_temp_seq_storage_file_path(self.embedding_for)\n",
    "        np.savetxt(data_temp_file_path, X.astype(int), fmt='%i')\n",
    "\n",
    "        # Create embeddings for event id https://fasttext.cc/docs/en/python-module.html\n",
    "        fasttext_model = fasttext.train_unsupervised(data_temp_file_path,\n",
    "                                                     model=self.embedding_model,\n",
    "                                                     dim=self.embedding_dim,\n",
    "                                                     wordNgrams=self.embedding_wordNgrams,\n",
    "                                                     epoch=self.epochs, minCount=self.minCount, maxn=self.maxn)\n",
    "        cfg_copy = self.embedding_config.copy()\n",
    "        cfg_copy[\"train_seq_len\"] = seq_len\n",
    "        model_file_path = generate_model_file_path(**cfg_copy)\n",
    "        fasttext_model.save_model(model_file_path)\n",
    "\n",
    "        os.remove(data_temp_file_path)\n",
    "\n",
    "        # print(fasttext_model.get_words())\n",
    "        # word_embeddings = model.get_output_matrix()\n",
    "        # print(word_embeddings)\n",
    "\n",
    "        return fasttext_model\n",
    "    \n",
    "    @staticmethod\n",
    "    def generate_temp_seq_storage_file_path(embedding_for=None):\n",
    "        return embedding_for + '_eventid_token_seq.txt'"
   ]
  },
  {
   "cell_type": "code",
   "execution_count": 39,
   "metadata": {},
   "outputs": [
    {
     "name": "stdout",
     "output_type": "stream",
     "text": [
      "c:/carhacking/features\\Car_Hacking_Challenge_Dataset_rev20Mar2021_fasttext_skipgram_3wordNgram_100dim_32trainseq_v1.0.bin\n"
     ]
    },
    {
     "ename": "ValueError",
     "evalue": "c:/carhacking/features\\Car_Hacking_Challenge_Dataset_rev20Mar2021_fasttext_skipgram_3wordNgram_100dim_32trainseq_v1.0.bin cannot be opened for saving!",
     "output_type": "error",
     "traceback": [
      "\u001b[1;31m---------------------------------------------------------------------------\u001b[0m",
      "\u001b[1;31mValueError\u001b[0m                                Traceback (most recent call last)",
      "\u001b[1;32mc:\\Users\\jvana\\carhacking\\notebooks\\fasttext_embedding_file2.ipynb Cell 23\u001b[0m line \u001b[0;36m9\n\u001b[0;32m      <a href='vscode-notebook-cell:/c%3A/Users/jvana/carhacking/notebooks/fasttext_embedding_file2.ipynb#X63sZmlsZQ%3D%3D?line=0'>1</a>\u001b[0m fastText_embedding_cfg \u001b[39m=\u001b[39m {\n\u001b[0;32m      <a href='vscode-notebook-cell:/c%3A/Users/jvana/carhacking/notebooks/fasttext_embedding_file2.ipynb#X63sZmlsZQ%3D%3D?line=1'>2</a>\u001b[0m     \u001b[39m'\u001b[39m\u001b[39membedding_root\u001b[39m\u001b[39m'\u001b[39m: \u001b[39m\"\u001b[39m\u001b[39mc:/carhacking/features\u001b[39m\u001b[39m\"\u001b[39m,\n\u001b[0;32m      <a href='vscode-notebook-cell:/c%3A/Users/jvana/carhacking/notebooks/fasttext_embedding_file2.ipynb#X63sZmlsZQ%3D%3D?line=2'>3</a>\u001b[0m     \u001b[39m'\u001b[39m\u001b[39membedding_for\u001b[39m\u001b[39m'\u001b[39m: \u001b[39m\"\u001b[39m\u001b[39mCar_Hacking_Challenge_Dataset_rev20Mar2021\u001b[39m\u001b[39m\"\u001b[39m, \u001b[39m'\u001b[39m\u001b[39membedding_model\u001b[39m\u001b[39m'\u001b[39m: \u001b[39m\"\u001b[39m\u001b[39mskipgram\u001b[39m\u001b[39m\"\u001b[39m,\n\u001b[0;32m      <a href='vscode-notebook-cell:/c%3A/Users/jvana/carhacking/notebooks/fasttext_embedding_file2.ipynb#X63sZmlsZQ%3D%3D?line=3'>4</a>\u001b[0m     \u001b[39m\"\u001b[39m\u001b[39membedding_wordNgrams\u001b[39m\u001b[39m\"\u001b[39m: \u001b[39m3\u001b[39m, \u001b[39m'\u001b[39m\u001b[39membedding_dim\u001b[39m\u001b[39m'\u001b[39m: \u001b[39m100\u001b[39m,\n\u001b[0;32m      <a href='vscode-notebook-cell:/c%3A/Users/jvana/carhacking/notebooks/fasttext_embedding_file2.ipynb#X63sZmlsZQ%3D%3D?line=4'>5</a>\u001b[0m     \u001b[39m'\u001b[39m\u001b[39membedding_version\u001b[39m\u001b[39m'\u001b[39m: \u001b[39m\"\u001b[39m\u001b[39m1.0\u001b[39m\u001b[39m\"\u001b[39m\n\u001b[0;32m      <a href='vscode-notebook-cell:/c%3A/Users/jvana/carhacking/notebooks/fasttext_embedding_file2.ipynb#X63sZmlsZQ%3D%3D?line=5'>6</a>\u001b[0m }\n\u001b[0;32m      <a href='vscode-notebook-cell:/c%3A/Users/jvana/carhacking/notebooks/fasttext_embedding_file2.ipynb#X63sZmlsZQ%3D%3D?line=7'>8</a>\u001b[0m fasttext_embedding \u001b[39m=\u001b[39m FastTextEmbedding(\u001b[39m*\u001b[39m\u001b[39m*\u001b[39mfastText_embedding_cfg)\n\u001b[1;32m----> <a href='vscode-notebook-cell:/c%3A/Users/jvana/carhacking/notebooks/fasttext_embedding_file2.ipynb#X63sZmlsZQ%3D%3D?line=8'>9</a>\u001b[0m fasttext_model \u001b[39m=\u001b[39m fasttext_embedding\u001b[39m.\u001b[39;49mfit(Xnew)\n",
      "\u001b[1;32mc:\\Users\\jvana\\carhacking\\notebooks\\fasttext_embedding_file2.ipynb Cell 23\u001b[0m line \u001b[0;36m4\n\u001b[0;32m     <a href='vscode-notebook-cell:/c%3A/Users/jvana/carhacking/notebooks/fasttext_embedding_file2.ipynb#X63sZmlsZQ%3D%3D?line=40'>41</a>\u001b[0m cfg_copy[\u001b[39m\"\u001b[39m\u001b[39mtrain_seq_len\u001b[39m\u001b[39m\"\u001b[39m] \u001b[39m=\u001b[39m seq_len\n\u001b[0;32m     <a href='vscode-notebook-cell:/c%3A/Users/jvana/carhacking/notebooks/fasttext_embedding_file2.ipynb#X63sZmlsZQ%3D%3D?line=41'>42</a>\u001b[0m model_file_path \u001b[39m=\u001b[39m generate_model_file_path(\u001b[39m*\u001b[39m\u001b[39m*\u001b[39mcfg_copy)\n\u001b[1;32m---> <a href='vscode-notebook-cell:/c%3A/Users/jvana/carhacking/notebooks/fasttext_embedding_file2.ipynb#X63sZmlsZQ%3D%3D?line=42'>43</a>\u001b[0m fasttext_model\u001b[39m.\u001b[39;49msave_model(model_file_path)\n\u001b[0;32m     <a href='vscode-notebook-cell:/c%3A/Users/jvana/carhacking/notebooks/fasttext_embedding_file2.ipynb#X63sZmlsZQ%3D%3D?line=44'>45</a>\u001b[0m os\u001b[39m.\u001b[39mremove(data_temp_file_path)\n\u001b[0;32m     <a href='vscode-notebook-cell:/c%3A/Users/jvana/carhacking/notebooks/fasttext_embedding_file2.ipynb#X63sZmlsZQ%3D%3D?line=46'>47</a>\u001b[0m \u001b[39m# print(fasttext_model.get_words())\u001b[39;00m\n\u001b[0;32m     <a href='vscode-notebook-cell:/c%3A/Users/jvana/carhacking/notebooks/fasttext_embedding_file2.ipynb#X63sZmlsZQ%3D%3D?line=47'>48</a>\u001b[0m \u001b[39m# word_embeddings = model.get_output_matrix()\u001b[39;00m\n\u001b[0;32m     <a href='vscode-notebook-cell:/c%3A/Users/jvana/carhacking/notebooks/fasttext_embedding_file2.ipynb#X63sZmlsZQ%3D%3D?line=48'>49</a>\u001b[0m \u001b[39m# print(word_embeddings)\u001b[39;00m\n",
      "File \u001b[1;32mc:\\Users\\jvana\\.conda\\envs\\carhacking\\lib\\site-packages\\fasttext\\FastText.py:306\u001b[0m, in \u001b[0;36m_FastText.save_model\u001b[1;34m(self, path)\u001b[0m\n\u001b[0;32m    304\u001b[0m \u001b[39mdef\u001b[39;00m \u001b[39msave_model\u001b[39m(\u001b[39mself\u001b[39m, path):\n\u001b[0;32m    305\u001b[0m \u001b[39m    \u001b[39m\u001b[39m\"\"\"Save the model to the given path\"\"\"\u001b[39;00m\n\u001b[1;32m--> 306\u001b[0m     \u001b[39mself\u001b[39;49m\u001b[39m.\u001b[39;49mf\u001b[39m.\u001b[39;49msaveModel(path)\n",
      "\u001b[1;31mValueError\u001b[0m: c:/carhacking/features\\Car_Hacking_Challenge_Dataset_rev20Mar2021_fasttext_skipgram_3wordNgram_100dim_32trainseq_v1.0.bin cannot be opened for saving!"
     ]
    }
   ],
   "source": [
    "fastText_embedding_cfg = {\n",
    "    'embedding_root': \"c:/carhacking/features\",\n",
    "    'embedding_for': \"Car_Hacking_Challenge_Dataset_rev20Mar2021\", 'embedding_model': \"skipgram\",\n",
    "    \"embedding_wordNgrams\": 3, 'embedding_dim': 100,\n",
    "    'embedding_version': \"1.0\"\n",
    "}\n",
    "\n",
    "fasttext_embedding = FastTextEmbedding(**fastText_embedding_cfg)\n",
    "fasttext_model = fasttext_embedding.fit(Xnew) # fits and saves model"
   ]
  },
  {
   "cell_type": "code",
   "execution_count": null,
   "metadata": {},
   "outputs": [],
   "source": []
  }
 ],
 "metadata": {
  "kernelspec": {
   "display_name": "carhacking",
   "language": "python",
   "name": "python3"
  },
  "language_info": {
   "codemirror_mode": {
    "name": "ipython",
    "version": 3
   },
   "file_extension": ".py",
   "mimetype": "text/x-python",
   "name": "python",
   "nbconvert_exporter": "python",
   "pygments_lexer": "ipython3",
   "version": "3.9.18"
  },
  "orig_nbformat": 4
 },
 "nbformat": 4,
 "nbformat_minor": 2
}
